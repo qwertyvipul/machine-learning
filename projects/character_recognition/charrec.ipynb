{
 "cells": [
  {
   "cell_type": "markdown",
   "metadata": {},
   "source": [
    "# Character Recognition\n",
    "\n",
    "The project introduction here..."
   ]
  },
  {
   "cell_type": "markdown",
   "metadata": {},
   "source": [
    "### Requirements - \n",
    "\n",
    "** Manual Installation **\n",
    "    1. Python 3 - 32/64 bit\n",
    "    2. numpy (pip install numpy)\n",
    "    3. matplotlib (pip install matplotlib)\n",
    "    4. pillow (pip install pillow)\n",
    "    \n",
    "** Anaconda Environment **\n",
    "    1. Anaconda Version 5.x\n",
    "    2. numpy (pip install numpy)\n",
    "    3. matplotlib (pip install matplotlib)\n",
    "    4. pillow (pip install pillow)\n",
    "    \n",
    "** Dataset **\n",
    "    1. Sentdex Tutorial Images - for numbers (http://sentdex.com/tutorialimages.zip)"
   ]
  },
  {
   "cell_type": "code",
   "execution_count": 50,
   "metadata": {
    "collapsed": true
   },
   "outputs": [],
   "source": [
    "# Importing the required modules for the project\n",
    "\n",
    "import numpy as np # For array manipulation of the images\n",
    "import matplotlib.pyplot as plt # To plot the graph for presentation and analysis\n",
    "from PIL import Image # To open and read images\n",
    "from statistics import mean # To find mean of the array\n",
    "from collections import Counter # To track the similar match matrix from dataset\n",
    "import os # To manipulate files"
   ]
  },
  {
   "cell_type": "code",
   "execution_count": 4,
   "metadata": {
    "collapsed": true
   },
   "outputs": [],
   "source": [
    "image = Image.open('images/dot.png')"
   ]
  },
  {
   "cell_type": "code",
   "execution_count": 5,
   "metadata": {},
   "outputs": [
    {
     "name": "stdout",
     "output_type": "stream",
     "text": [
      "[[[  0   0   0 255]\n",
      "  [255 255 255 255]\n",
      "  [255 255 255 255]\n",
      "  [255 255 255 255]\n",
      "  [255 255 255 255]\n",
      "  [255 255 255 255]\n",
      "  [255 255 255 255]\n",
      "  [255 255 255 255]]\n",
      "\n",
      " [[255 255 255 255]\n",
      "  [255 255 255 255]\n",
      "  [255 255 255 255]\n",
      "  [255 255 255 255]\n",
      "  [255 255 255 255]\n",
      "  [255 255 255 255]\n",
      "  [255 255 255 255]\n",
      "  [255 255 255 255]]\n",
      "\n",
      " [[255 255 255 255]\n",
      "  [255 255 255 255]\n",
      "  [255 255 255 255]\n",
      "  [255 255 255 255]\n",
      "  [255 255 255 255]\n",
      "  [255 255 255 255]\n",
      "  [255 255 255 255]\n",
      "  [255 255 255 255]]\n",
      "\n",
      " [[255 255 255 255]\n",
      "  [255 255 255 255]\n",
      "  [255 255 255 255]\n",
      "  [255 255 255 255]\n",
      "  [255 255 255 255]\n",
      "  [255 255 255 255]\n",
      "  [255 255 255 255]\n",
      "  [255 255 255 255]]\n",
      "\n",
      " [[255 255 255 255]\n",
      "  [255 255 255 255]\n",
      "  [255 255 255 255]\n",
      "  [255 255 255 255]\n",
      "  [255 255 255 255]\n",
      "  [255 255 255 255]\n",
      "  [255 255 255 255]\n",
      "  [255 255 255 255]]\n",
      "\n",
      " [[255 255 255 255]\n",
      "  [255 255 255 255]\n",
      "  [255 255 255 255]\n",
      "  [255 255 255 255]\n",
      "  [255 255 255 255]\n",
      "  [255 255 255 255]\n",
      "  [255 255 255 255]\n",
      "  [255 255 255 255]]\n",
      "\n",
      " [[255 255 255 255]\n",
      "  [255 255 255 255]\n",
      "  [255 255 255 255]\n",
      "  [255 255 255 255]\n",
      "  [255 255 255 255]\n",
      "  [255 255 255 255]\n",
      "  [255 255 255 255]\n",
      "  [255 255 255 255]]\n",
      "\n",
      " [[255 255 255 255]\n",
      "  [255 255 255 255]\n",
      "  [255 255 255 255]\n",
      "  [255 255 255 255]\n",
      "  [255 255 255 255]\n",
      "  [255 255 255 255]\n",
      "  [255 255 255 255]\n",
      "  [255 255 255 255]]]\n"
     ]
    }
   ],
   "source": [
    "# convert the image into a numpy array\n",
    "image_array = np.asarray(image) # this would be a 3D array\n",
    "# First Dimension for the pixel array\n",
    "# Second Dimension for the pixel row\n",
    "# Third Dimension for the pixel columns\n",
    "# Our images are saved as 256 color bit map\n",
    "print(image_array)"
   ]
  },
  {
   "cell_type": "code",
   "execution_count": 6,
   "metadata": {},
   "outputs": [
    {
     "data": {
      "image/png": "[encoded data removed]",
      "text/plain": [
       "<matplotlib.figure.Figure at 0x18f09f8b0b8>"
      ]
     },
     "metadata": {},
     "output_type": "display_data"
    }
   ],
   "source": [
    "# Plotting the images\n",
    "plt.imshow(image_array)\n",
    "plt.show()"
   ]
  },
  {
   "cell_type": "code",
   "execution_count": 7,
   "metadata": {},
   "outputs": [
    {
     "data": {
      "image/png": "[encoded data removed]",
      "text/plain": [
       "<matplotlib.figure.Figure at 0x18f09fc7b38>"
      ]
     },
     "metadata": {},
     "output_type": "display_data"
    }
   ],
   "source": [
    "# Plotting an RGB image\n",
    "image = Image.open('images/numbers/y0.4.png')\n",
    "image_array = np.asarray(image)\n",
    "plt.imshow(image_array)\n",
    "plt.show()"
   ]
  },
  {
   "cell_type": "markdown",
   "metadata": {},
   "source": [
    "### The Challenge\n",
    "Our analysis model would be based for grayscale images. We need to convert our different coloured RGB images into grayscale images. "
   ]
  },
  {
   "cell_type": "code",
   "execution_count": 8,
   "metadata": {},
   "outputs": [
    {
     "data": {
      "image/png": "[encoded data removed]",
      "text/plain": [
       "<matplotlib.figure.Figure at 0x18f0a4826d8>"
      ]
     },
     "metadata": {},
     "output_type": "display_data"
    }
   ],
   "source": [
    "image_1 = Image.open('images/sentdex.png')\n",
    "image_array_1 = np.asarray(image_1)\n",
    "\n",
    "image_2 = Image.open('images/numbers/y0.4.png')\n",
    "image_array_2 = np.asarray(image_2)\n",
    "\n",
    "image_3 = Image.open('images/numbers/y0.5.png')\n",
    "image_array_3 = np.asarray(image_3)\n",
    "\n",
    "image_4 = Image.open('images/numbers/0.1.png')\n",
    "image_array_4 = np.asarray(image_4)\n",
    "\n",
    "fig = plt.figure()\n",
    "ax1 = plt.subplot2grid((8, 8), (0, 0), rowspan = 4, colspan = 4)\n",
    "ax2 = plt.subplot2grid((8, 8), (4, 0), rowspan = 4, colspan = 4)\n",
    "ax3 = plt.subplot2grid((8, 8), (0, 4), rowspan = 4, colspan = 4)\n",
    "ax4 = plt.subplot2grid((8, 8), (4, 4), rowspan = 4, colspan = 4)\n",
    "\n",
    "ax1.imshow(image_array_1)\n",
    "ax2.imshow(image_array_2)\n",
    "ax3.imshow(image_array_3)\n",
    "ax4.imshow(image_array_4)\n",
    "\n",
    "plt.show()"
   ]
  },
  {
   "cell_type": "markdown",
   "metadata": {},
   "source": [
    "### Thresholding\n",
    "* For different coloured images like the one above we use thresholding to convert image into pure black and white\n",
    "* If the RGB value of a pixel is above certain threshold value it is white else black."
   ]
  },
  {
   "cell_type": "code",
   "execution_count": 12,
   "metadata": {
    "collapsed": true
   },
   "outputs": [],
   "source": [
    "def threshold(image_array):\n",
    "    balance_array = []\n",
    "    new_array = image_array.copy()\n",
    "    \n",
    "    for each_row in image_array:\n",
    "        for each_pix in each_row:\n",
    "            average_num = mean(each_pix[:3])\n",
    "            balance_array.append(average_num)\n",
    "            \n",
    "    balance_num = mean(balance_array)\n",
    "    \n",
    "    for each_row in new_array:\n",
    "        for each_pix in each_row:\n",
    "            pass\n",
    "            \n",
    "            if mean(each_pix[:3]) > balance_num:\n",
    "                each_pix[0] = 255\n",
    "                each_pix[1] = 255\n",
    "                each_pix[2] = 255\n",
    "                each_pix[3] = 255\n",
    "            else:\n",
    "                each_pix[0] = 0\n",
    "                each_pix[1] = 0\n",
    "                each_pix[2] = 0\n",
    "                each_pix[3] = 255\n",
    "            \n",
    "                \n",
    "    return new_array"
   ]
  },
  {
   "cell_type": "code",
   "execution_count": 13,
   "metadata": {},
   "outputs": [
    {
     "data": {
      "image/png": "[encoded data removed]",
      "text/plain": [
       "<matplotlib.figure.Figure at 0x18f0a872e48>"
      ]
     },
     "metadata": {},
     "output_type": "display_data"
    }
   ],
   "source": [
    "fig = plt.figure()\n",
    "ax1 = plt.subplot2grid((8, 8), (0, 0), rowspan = 4, colspan = 4)\n",
    "ax2 = plt.subplot2grid((8, 8), (4, 0), rowspan = 4, colspan = 4)\n",
    "ax3 = plt.subplot2grid((8, 8), (0, 4), rowspan = 4, colspan = 4)\n",
    "ax4 = plt.subplot2grid((8, 8), (4, 4), rowspan = 4, colspan = 4)\n",
    "\n",
    "ax1.imshow(threshold(image_array_1))\n",
    "ax2.imshow(threshold(image_array_2))\n",
    "ax3.imshow(threshold(image_array_3))\n",
    "ax4.imshow(threshold(image_array_4))\n",
    "\n",
    "plt.show()"
   ]
  },
  {
   "cell_type": "code",
   "execution_count": 37,
   "metadata": {},
   "outputs": [],
   "source": [
    "# Function to generate the training dataset from the number images\n",
    "def createNumberExamples():\n",
    "    file_name = 'examples/number_array_examples.txt'\n",
    "    \n",
    "    # Remove the already existing file\n",
    "    if os.path.exists(file_name):\n",
    "        os.remove(file_name)\n",
    "    \n",
    "    number_array_examples = open(file_name, 'a')\n",
    "    all_numbers = range(0, 10)\n",
    "    all_versions = range(1, 10)\n",
    "    \n",
    "    for each_num in all_numbers:\n",
    "        for each_version in all_versions:\n",
    "            # print(str(each_num) + '.' + str(each_version))\n",
    "            image_file_path = 'images/numbers/' + str(each_num) + '.' + str(each_version) + '.png'\n",
    "            example_image = Image.open(image_file_path)\n",
    "            example_image_array = np.asarray(example_image)\n",
    "            example_image_array_list = str(example_image_array.tolist())\n",
    "            \n",
    "            line_to_write = str(each_num) + '::' + example_image_array_list + '\\n'\n",
    "            number_array_examples.write(line_to_write)\n",
    "            \n",
    "createNumberExamples()"
   ]
  },
  {
   "cell_type": "code",
   "execution_count": 38,
   "metadata": {
    "collapsed": true
   },
   "outputs": [],
   "source": [
    "# Function to generate the training dataset from the alphabet images\n",
    "def createAlphabetExamples():\n",
    "    file_name = 'examples/alphabet_array_examples.txt'\n",
    "    \n",
    "    # Remove the already existing file\n",
    "    if os.path.exists(file_name):\n",
    "        os.remove(file_name)\n",
    "        \n",
    "    alphabet_array_examples = open(file_name, 'a')\n",
    "    all_alphabets = range(0, 10)\n",
    "    all_versions = range(1, 10)\n",
    "    \n",
    "    for each_alpha in all_alphabets:\n",
    "        for each_version in all_versions:\n",
    "            # print(str(each_alpha) + '.' + str(each_version))\n",
    "            image_file_path = 'images/alphabets/' + str(each_alpha) + '.' + str(each_version) + '.png'\n",
    "            example_image = Image.open(image_file_path)\n",
    "            example_image_array = np.asarray(example_image)\n",
    "            example_image_array_list = str(example_image_array.tolist())\n",
    "            \n",
    "            line_to_write = str(each_alpha) + '::' + example_image_array_list + '\\n'\n",
    "            alphabet_array_examples.write(line_to_write)\n",
    "            \n",
    "createAlphabetExamples()"
   ]
  },
  {
   "cell_type": "code",
   "execution_count": 39,
   "metadata": {
    "collapsed": true
   },
   "outputs": [],
   "source": [
    "# Function to generate the training dataset from the devnagri images\n",
    "def createDevnagriExamples():\n",
    "    file_name = 'examples/devnagri_array_examples.txt'\n",
    "    \n",
    "    # Remove the already existing file\n",
    "    if os.path.exists(file_name):\n",
    "        os.remove(file_name)\n",
    "        \n",
    "    devnagri_array_examples = open(file_name, 'a')\n",
    "    all_chars = range(0, 10)\n",
    "    all_versions = range(1, 10)\n",
    "    \n",
    "    for each_char in all_chars:\n",
    "        for each_version in all_versions:\n",
    "            # print(str(each_char) + '.' + str(each_version))\n",
    "            image_file_path = 'images/devnagri/' + str(each_char) + '.' + str(each_version) + '.png'\n",
    "            example_image = Image.open(image_file_path)\n",
    "            example_image_array = np.asarray(example_image)\n",
    "            example_image_array_list = str(example_image_array.tolist())\n",
    "            \n",
    "            line_to_write = str(each_char) + '::' + example_image_array_list + '\\n'\n",
    "            devnagri_array_examples.write(line_to_write)\n",
    "            \n",
    "createDevnagriExamples()"
   ]
  },
  {
   "cell_type": "code",
   "execution_count": 55,
   "metadata": {
    "collapsed": true
   },
   "outputs": [],
   "source": [
    "# Function to guess the probability of a given image to be a prticular image\n",
    "def guessTheNumber(file_path):\n",
    "    matched_array = []\n",
    "    load_examples = open('examples/number_array_examples.txt', 'r').read()\n",
    "    load_examples = load_examples.split('\\n')\n",
    "    \n",
    "    # Load and read the given image in a 3D array matrix\n",
    "    image = Image.open(file_path)\n",
    "    image_array = np.asarray(image)\n",
    "    image_array_list = image_array.tolist()\n",
    "    \n",
    "    test_sample = str(image_array_list)\n",
    "    \n",
    "    for each_example in load_examples:\n",
    "        if len(each_example) > 3:\n",
    "            split_example = each_example.split('::')\n",
    "            current_num = split_example[0]\n",
    "            current_array = split_example[1]\n",
    "            \n",
    "            each_example_pixel = current_array.split('],')\n",
    "            each_sample_pixel = test_sample.split('],')\n",
    "            \n",
    "            x = 0\n",
    "            while x < len(each_example_pixel):\n",
    "                if each_example_pixel[x] == each_sample_pixel[x]:\n",
    "                    matched_array.append(int(current_num))\n",
    "                    \n",
    "                x += 1\n",
    "                \n",
    "    # print(matched_array)\n",
    "    x = Counter(matched_array)\n",
    "    plotResult(x, image_array)"
   ]
  },
  {
   "cell_type": "code",
   "execution_count": 56,
   "metadata": {
    "collapsed": true
   },
   "outputs": [],
   "source": [
    "# Function to guess the probability of a given image to be a prticular image\n",
    "def guessTheAlphabet(file_path):\n",
    "    matched_array = []\n",
    "    load_examples = open('examples/alphabet_array_examples.txt', 'r').read()\n",
    "    load_examples = load_examples.split('\\n')\n",
    "    \n",
    "    # Load and read the given image in a 3D array matrix\n",
    "    image = Image.open(file_path)\n",
    "    image_array = np.asarray(image)\n",
    "    image_array_list = image_array.tolist()\n",
    "    \n",
    "    test_sample = str(image_array_list)\n",
    "    \n",
    "    for each_example in load_examples:\n",
    "        if len(each_example) > 3:\n",
    "            split_example = each_example.split('::')\n",
    "            current_num = split_example[0]\n",
    "            current_array = split_example[1]\n",
    "            \n",
    "            each_example_pixel = current_array.split('],')\n",
    "            each_sample_pixel = test_sample.split('],')\n",
    "            \n",
    "            x = 0\n",
    "            while x < len(each_example_pixel):\n",
    "                if each_example_pixel[x] == each_sample_pixel[x]:\n",
    "                    matched_array.append(int(current_num))\n",
    "                    \n",
    "                x += 1\n",
    "                \n",
    "    # print(matched_array)\n",
    "    x = Counter(matched_array)\n",
    "    plotResult(x, image_array)"
   ]
  },
  {
   "cell_type": "code",
   "execution_count": 57,
   "metadata": {
    "collapsed": true
   },
   "outputs": [],
   "source": [
    "# Function to guess the probability of a given image to be a prticular image\n",
    "def guessTheDevnagri(file_path):\n",
    "    matched_array = []\n",
    "    load_examples = open('examples/devnagri_array_examples.txt', 'r').read()\n",
    "    load_examples = load_examples.split('\\n')\n",
    "    \n",
    "    # Load and read the given image in a 3D array matrix\n",
    "    image = Image.open(file_path)\n",
    "    image_array = np.asarray(image)\n",
    "    image_array_list = image_array.tolist()\n",
    "    \n",
    "    test_sample = str(image_array_list)\n",
    "    \n",
    "    for each_example in load_examples:\n",
    "        if len(each_example) > 3:\n",
    "            split_example = each_example.split('::')\n",
    "            current_num = split_example[0]\n",
    "            current_array = split_example[1]\n",
    "            \n",
    "            each_example_pixel = current_array.split('],')\n",
    "            each_sample_pixel = test_sample.split('],')\n",
    "            \n",
    "            x = 0\n",
    "            while x < len(each_example_pixel):\n",
    "                if each_example_pixel[x] == each_sample_pixel[x]:\n",
    "                    matched_array.append(int(current_num))\n",
    "                    \n",
    "                x += 1\n",
    "                \n",
    "    # print(matched_array)\n",
    "    x = Counter(matched_array)\n",
    "    plotResult(x, image_array)"
   ]
  },
  {
   "cell_type": "code",
   "execution_count": 58,
   "metadata": {
    "collapsed": true
   },
   "outputs": [],
   "source": [
    "# Function to plot the given test number and the relative estimates on graph\n",
    "def plotResult(x, image_array):\n",
    "    graph_x = []\n",
    "    graph_y = []\n",
    "    \n",
    "    for each_key in x:\n",
    "        # print(each_key)\n",
    "        graph_x.append(each_key)\n",
    "        # print(x[each_key])\n",
    "        graph_y.append(x[each_key])\n",
    "        \n",
    "    fig = plt.figure()\n",
    "    ax_1 = plt.subplot2grid((4, 4), (0, 0), rowspan = 1, colspan = 4)\n",
    "    ax_2 = plt.subplot2grid((4, 4), (1, 0), rowspan = 3, colspan = 4)\n",
    "    \n",
    "    ax_1.imshow(image_array)\n",
    "    ax_2.bar(graph_x, graph_y, align = 'center')\n",
    "    # plt.ylim(400)\n",
    "    \n",
    "    xloc = plt.MaxNLocator(12)\n",
    "    \n",
    "    ax_2.xaxis.set_major_locator(xloc)\n",
    "    \n",
    "    plt.show()"
   ]
  },
  {
   "cell_type": "code",
   "execution_count": 59,
   "metadata": {},
   "outputs": [
    {
     "data": {
      "image/png": "[encoded data removed]",
      "text/plain": [
       "<matplotlib.figure.Figure at 0x18f0bcbb048>"
      ]
     },
     "metadata": {},
     "output_type": "display_data"
    }
   ],
   "source": [
    "# Guessing the number\n",
    "guessTheNumber('images/numbers/0.7.png')"
   ]
  },
  {
   "cell_type": "code",
   "execution_count": 60,
   "metadata": {},
   "outputs": [
    {
     "data": {
      "image/png": "[encoded data removed]",
      "text/plain": [
       "<matplotlib.figure.Figure at 0x18f0ac0f5c0>"
      ]
     },
     "metadata": {},
     "output_type": "display_data"
    }
   ],
   "source": [
    "# Guessing the alphabet\n",
    "guessTheAlphabet('images/alphabets/0.2.png')"
   ]
  },
  {
   "cell_type": "code",
   "execution_count": 61,
   "metadata": {},
   "outputs": [
    {
     "data": {
      "image/png": "[encoded data removed]",
      "text/plain": [
       "<matplotlib.figure.Figure at 0x18f0bd29780>"
      ]
     },
     "metadata": {},
     "output_type": "display_data"
    }
   ],
   "source": [
    "# Guessing the devnagri\n",
    "guessTheAlphabet('images/devnagri/2.2.png')"
   ]
  },
  {
   "cell_type": "code",
   "execution_count": null,
   "metadata": {
    "collapsed": true
   },
   "outputs": [],
   "source": []
  }
 ],
 "metadata": {
  "kernelspec": {
   "display_name": "Python 3",
   "language": "python",
   "name": "python3"
  },
  "language_info": {
   "codemirror_mode": {
    "name": "ipython",
    "version": 3
   },
   "file_extension": ".py",
   "mimetype": "text/x-python",
   "name": "python",
   "nbconvert_exporter": "python",
   "pygments_lexer": "ipython3",
   "version": "3.6.3"
  }
 },
 "nbformat": 4,
 "nbformat_minor": 2
}
