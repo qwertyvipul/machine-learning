{
 "cells": [
  {
   "cell_type": "markdown",
   "metadata": {},
   "source": [
    "# Getting Along Kernels\n",
    "\n",
    "Extended version of   \n",
    "\n",
    "The Kernels allows us to perform calculations in infinite directions without ever actually visiting them. Impressive! right?"
   ]
  },
  {
   "cell_type": "code",
   "execution_count": 2,
   "metadata": {},
   "outputs": [
    {
     "name": "stdout",
     "output_type": "stream",
     "text": [
      "60\n",
      "60\n"
     ]
    }
   ],
   "source": [
    "import numpy as np\n",
    "\n",
    "x1 = np.array([5,3,2,2,5,2,1])\n",
    "x2 = np.array([2,1,1,6,4,6,1])\n",
    "\n",
    "'''\n",
    "dot and inner are fundamentally the same thing\n",
    "'''\n",
    "\n",
    "print(np.dot(x1,x2))\n",
    "print(np.inner(x1,x2))"
   ]
  },
  {
   "cell_type": "markdown",
   "metadata": {},
   "source": [
    "There's more..."
   ]
  }
 ],
 "metadata": {
  "kernelspec": {
   "display_name": "Python 3",
   "language": "python",
   "name": "python3"
  },
  "language_info": {
   "codemirror_mode": {
    "name": "ipython",
    "version": 3
   },
   "file_extension": ".py",
   "mimetype": "text/x-python",
   "name": "python",
   "nbconvert_exporter": "python",
   "pygments_lexer": "ipython3",
   "version": "3.6.3"
  }
 },
 "nbformat": 4,
 "nbformat_minor": 2
}
