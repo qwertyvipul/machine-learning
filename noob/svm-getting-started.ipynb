{
 "cells": [
  {
   "cell_type": "markdown",
   "metadata": {},
   "source": [
    "# Support Vector Machines\n",
    "\n",
    "A vector has both magnitude and direction (obviously).\n",
    "\n",
    "    vector(A) = [1,3]\n",
    "    vector(B) = [4,2]\n",
    "\n",
    "    vector(A).vector(B) = 1*4 + 3*2\n",
    "                        = 10"
   ]
  },
  {
   "cell_type": "markdown",
   "metadata": {},
   "source": [
    "How SVM works for a new data point is that for it draws a perpendicular line from origin to the dividing line. Then projects the given point on this line and decided the plane containing the line."
   ]
  },
  {
   "cell_type": "markdown",
   "metadata": {},
   "source": [
    "    given point = vector(u)\n",
    "    the perpendicular line intersection = vector(w)\n",
    "\n",
    "    vector(u).vector(w) + b >=< 0 \n",
    "    These three cases decides if the line lies on one side or the other or on the boundary line.\n",
    "\n",
    "    vector(u) = unknown vector\n",
    "    vector(w) = known vector\n",
    "    b = bias (unknown)\n",
    "\n",
    "    Finding _vector(u)_ and _i_ :\n",
    "        vector(X[-sv]).vector(w)+b = -1\n",
    "        vectot(X[+sv]).vector(w)+b = 1\n",
    "\n",
    "    here,\n",
    "        sv = support vector\n",
    "\n",
    "    y(+i) = +1\n",
    "    y(-i) = -1\n",
    "\n",
    "    For the +Class:\n",
    "        eq1 = vector(X[i]).vector(w)+b = 1\n",
    "        y(+i) = 1\n",
    "\n",
    "    For the -Class:\n",
    "        eq2 = vector(X[i]).vector(w)+b = -1\n",
    "        y(-i) = -1\n",
    "\n",
    "    eq1.y(+i) = 1\n",
    "    eq2.y(-i) = 1\n",
    "\n",
    "**Ya it all looks easy, doesn't it?**"
   ]
  },
  {
   "cell_type": "markdown",
   "metadata": {},
   "source": [
    "    Width = (vector(X[+]) - vector(X[-]).vector(w)/magnitude(vector(w))\n",
    "\n"
   ]
  },
  {
   "cell_type": "markdown",
   "metadata": {},
   "source": [
    "**Missing Hyperplanes...**"
   ]
  },
  {
   "cell_type": "code",
   "execution_count": null,
   "metadata": {
    "collapsed": true
   },
   "outputs": [],
   "source": []
  }
 ],
 "metadata": {
  "kernelspec": {
   "display_name": "Python 3",
   "language": "python",
   "name": "python3"
  },
  "language_info": {
   "codemirror_mode": {
    "name": "ipython",
    "version": 3
   },
   "file_extension": ".py",
   "mimetype": "text/x-python",
   "name": "python",
   "nbconvert_exporter": "python",
   "pygments_lexer": "ipython3",
   "version": "3.6.3"
  }
 },
 "nbformat": 4,
 "nbformat_minor": 2
}
