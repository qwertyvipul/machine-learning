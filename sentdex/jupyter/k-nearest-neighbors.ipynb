{
 "cells": [
  {
   "cell_type": "markdown",
   "metadata": {},
   "source": [
    "# Writing K-Nearest Neibhbors Algorithm"
   ]
  },
  {
   "cell_type": "markdown",
   "metadata": {},
   "source": [
    "## Euclidean Distance\n",
    "\n",
    "This Euclid guy was some hell of a person. The father of geometry. When the first printing was created the first thing printed was bible and probably the next was this Euclid's book on geometry (The bible of geometry).\n",
    "\n",
    "sqrt(Sum{i=1 to n} - (qi - pi)^2)"
   ]
  },
  {
   "cell_type": "markdown",
   "metadata": {},
   "source": [
    "### Getting into the calculation\n",
    "\n",
    "q = (1, 3)\n",
    "p = (2, 5)\n",
    "\n",
    "<pre>\n",
    "Here,\n",
    "    n = 2\n",
    "\n",
    "Calculation,\n",
    "    sqrt( (q1 - p1)^2 + (q2 - p2)^2)\n",
    "    = sqrt( (1-2)^2 + (3 - 5)^2)\n",
    "    = sqrt( 1 + 4)\n",
    "    = sqrt(5)\n",
    "</pre>"
   ]
  },
  {
   "cell_type": "code",
   "execution_count": 1,
   "metadata": {},
   "outputs": [
    {
     "name": "stdout",
     "output_type": "stream",
     "text": [
      "2.23606797749979\n"
     ]
    }
   ],
   "source": [
    "from math import sqrt\n",
    "\n",
    "plot1 = [1, 3]\n",
    "plot2 = [2, 5]\n",
    "\n",
    "euclidean_distance = sqrt( (plot1[0] - plot2[0])**2 +  (plot1[1] - plot2[1])**2)\n",
    "\n",
    "print(euclidean_distance)"
   ]
  },
  {
   "cell_type": "code",
   "execution_count": 5,
   "metadata": {
    "scrolled": true
   },
   "outputs": [
    {
     "data": {
      "image/png": "[encoded data removed]",
      "text/plain": [
       "<matplotlib.figure.Figure at 0x2bfeaf9f080>"
      ]
     },
     "metadata": {},
     "output_type": "display_data"
    }
   ],
   "source": [
    "import numpy as np #it has a built in euclidean distance function\n",
    "import matplotlib.pyplot as plt\n",
    "from matplotlib import style\n",
    "from collections import Counter\n",
    "style.use('fivethirtyeight')\n",
    "\n",
    "'''\n",
    "k = features\n",
    "r = class\n",
    "'''\n",
    "dataset = {\n",
    "    'k': [[1, 2], [2, 3], [3, 1]],\n",
    "    'r': [[6, 5], [7, 7], [8, 6]]\n",
    "}\n",
    "\n",
    "new_features = [5, 7]\n",
    "\n",
    "'''\n",
    "for i in dataset:\n",
    "    for feature in dataset[1]:\n",
    "        plt.scatter(feature[0], feature[1], s = 100, color = i)\n",
    "'''\n",
    "\n",
    "#The above code in one line\n",
    "[[plt.scatter(feature[0], feature[1], s = 100, color = i) for feature in dataset[i]] for i in dataset]\n",
    "plt.scatter(new_features[0], new_features[1], s=100, color = 'b')\n",
    "plt.show()\n",
    "\n"
   ]
  },
  {
   "cell_type": "code",
   "execution_count": 22,
   "metadata": {},
   "outputs": [
    {
     "name": "stdout",
     "output_type": "stream",
     "text": [
      "r\n"
     ]
    },
    {
     "data": {
      "image/png": "[encoded data removed]",
      "text/plain": [
       "<matplotlib.figure.Figure at 0x2bfec008c88>"
      ]
     },
     "metadata": {},
     "output_type": "display_data"
    }
   ],
   "source": [
    "def k_nearest_neighbors(data, predict, k=3):\n",
    "    if len(data) >= k:\n",
    "        warnings.warn('K is set to a values less tha total voting groups!')\n",
    "        \n",
    "    distances = []\n",
    "    for group in data:\n",
    "        for features in data[group]:\n",
    "            # This is the built in euclidean distance formula\n",
    "            euclidean_distance = np.linalg.norm(np.array(features) - np.array(predict))\n",
    "            distances.append([euclidean_distance, group])\n",
    "    \n",
    "    votes = [distance[1] for distance in sorted(distances)[:k]]\n",
    "    vote_result = Counter(votes).most_common(1)[0][0]\n",
    "    \n",
    "    #The confidence\n",
    "    confidence = Counter(votes).most_common(1)[0][1] / k\n",
    "    \n",
    "    return vote_result, confidence\n",
    "\n",
    "result, confidence = k_nearest_neighbors(dataset, new_features, k=3)\n",
    "print(result)\n",
    "\n",
    "[[plt.scatter(feature[0], feature[1], s = 100, color = i) for feature in dataset[i]] for i in dataset]\n",
    "plt.scatter(new_features[0], new_features[1], s=200, color = result)\n",
    "plt.show()"
   ]
  },
  {
   "cell_type": "code",
   "execution_count": 25,
   "metadata": {},
   "outputs": [
    {
     "name": "stdout",
     "output_type": "stream",
     "text": [
      "0.9697841726618706\n"
     ]
    }
   ],
   "source": [
    "# Testing our algorithm with that of the scikit learn's\n",
    "\n",
    "import pandas as pd\n",
    "import random\n",
    "\n",
    "df = pd.read_csv('bcw.data')\n",
    "df.replace('?', -99999, inplace = True)\n",
    "df.drop(['id'], 1, inplace = True)\n",
    "\n",
    "accuracies = []\n",
    "for i in range(10):\n",
    "    full_data = df.astype(float).values.tolist() #convert data to float\n",
    "    random.shuffle(full_data)\n",
    "\n",
    "    test_size = 0.2\n",
    "    train_set = {2:[], 4:[]}\n",
    "    test_set = {2:[], 4:[]}\n",
    "    train_data = full_data[:-int(test_size*len(full_data))]\n",
    "    test_data = full_data[-int(test_size*len(full_data)):]\n",
    "\n",
    "    for i in train_data:\n",
    "        train_set[i[-1]].append(i[:-1])\n",
    "\n",
    "    for i in test_data:\n",
    "        test_set[i[-1]].append(i[:-1])\n",
    "\n",
    "    correct = 0\n",
    "    total = 0\n",
    "\n",
    "    for group in test_set:\n",
    "        for data in test_set[group]:\n",
    "            #fiddle with k and check\n",
    "            vote, confidence = k_nearest_neighbors(train_set, data, k=5)\n",
    "            if group == vote:\n",
    "                correct += 1\n",
    "            else:\n",
    "                pass\n",
    "                #print(confidence)\n",
    "            total += 1\n",
    "\n",
    "    #print('Accuracy: ', correct/total)\n",
    "    accuracies.append(correct/total)\n",
    "    \n",
    "print(sum(accuracies)/len(accuracies))"
   ]
  },
  {
   "cell_type": "code",
   "execution_count": 30,
   "metadata": {},
   "outputs": [
    {
     "name": "stdout",
     "output_type": "stream",
     "text": [
      "0.9424460431654678\n"
     ]
    }
   ],
   "source": [
    "#Comparing the result with the sklearn K-Nearest Neighbor\n",
    "import numpy as np\n",
    "from sklearn import preprocessing, cross_validation, neighbors\n",
    "import pandas as pd\n",
    "\n",
    "df = pd.read_csv('bcw.data')\n",
    "df.replace('?', -99999, inplace = True)\n",
    "df.drop(['id'], 1, inplace = True)\n",
    "X = np.array(df.drop(['class'], 1))\n",
    "y = np.array(df['class'])\n",
    "\n",
    "accuracies = []\n",
    "for i in range(10):\n",
    "    X_train, X_test, y_train, y_test = cross_validation.train_test_split(X, y, test_size = 0.2)\n",
    "\n",
    "    clf = neighbors.KNeighborsClassifier()\n",
    "    clf.fit(X_train, y_train)\n",
    "\n",
    "    accuracy = clf.score(X_test, y_test)\n",
    "    #print(accuracy)\n",
    "    accuracies.append(correct/total)\n",
    "    \n",
    "print(sum(accuracies)/len(accuracies))"
   ]
  }
 ],
 "metadata": {
  "kernelspec": {
   "display_name": "Python 3",
   "language": "python",
   "name": "python3"
  },
  "language_info": {
   "codemirror_mode": {
    "name": "ipython",
    "version": 3
   },
   "file_extension": ".py",
   "mimetype": "text/x-python",
   "name": "python",
   "nbconvert_exporter": "python",
   "pygments_lexer": "ipython3",
   "version": "3.6.3"
  }
 },
 "nbformat": 4,
 "nbformat_minor": 2
}
