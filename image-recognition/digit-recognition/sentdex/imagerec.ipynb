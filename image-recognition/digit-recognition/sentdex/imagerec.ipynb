{
 "cells": [
  {
   "cell_type": "markdown",
   "metadata": {},
   "source": [
    "# sentdex image recognition\n",
    "\n",
    "### Requirements\n",
    "1. Python 3 - 64 bit\n",
    "2. numpy\n",
    "3. matplotlib\n",
    "4. pillow\n",
    "5. [Tutorial Images](http://sentdex.com/tutorialimages.zip)"
   ]
  },
  {
   "cell_type": "markdown",
   "metadata": {},
   "source": [
    "### checking for the requirements\n",
    "* If the requirements are satisified the codes below should run without any errors"
   ]
  },
  {
   "cell_type": "code",
   "execution_count": 1,
   "metadata": {},
   "outputs": [
    {
     "name": "stdout",
     "output_type": "stream",
     "text": [
      "Working...\n"
     ]
    }
   ],
   "source": [
    "import numpy as np\n",
    "import matplotlib\n",
    "from PIL import Image # import Image - for 32 bit python\n",
    "\n",
    "print(\"Working...\")"
   ]
  },
  {
   "cell_type": "code",
   "execution_count": 2,
   "metadata": {},
   "outputs": [],
   "source": [
    "image = Image.open('tutorialimages/images/dot.png')"
   ]
  },
  {
   "cell_type": "code",
   "execution_count": 3,
   "metadata": {},
   "outputs": [
    {
     "name": "stdout",
     "output_type": "stream",
     "text": [
      "[[[  0   0   0 255]\n",
      "  [255 255 255 255]\n",
      "  [255 255 255 255]\n",
      "  [255 255 255 255]\n",
      "  [255 255 255 255]\n",
      "  [255 255 255 255]\n",
      "  [255 255 255 255]\n",
      "  [255 255 255 255]]\n",
      "\n",
      " [[255 255 255 255]\n",
      "  [255 255 255 255]\n",
      "  [255 255 255 255]\n",
      "  [255 255 255 255]\n",
      "  [255 255 255 255]\n",
      "  [255 255 255 255]\n",
      "  [255 255 255 255]\n",
      "  [255 255 255 255]]\n",
      "\n",
      " [[255 255 255 255]\n",
      "  [255 255 255 255]\n",
      "  [255 255 255 255]\n",
      "  [255 255 255 255]\n",
      "  [255 255 255 255]\n",
      "  [255 255 255 255]\n",
      "  [255 255 255 255]\n",
      "  [255 255 255 255]]\n",
      "\n",
      " [[255 255 255 255]\n",
      "  [255 255 255 255]\n",
      "  [255 255 255 255]\n",
      "  [255 255 255 255]\n",
      "  [255 255 255 255]\n",
      "  [255 255 255 255]\n",
      "  [255 255 255 255]\n",
      "  [255 255 255 255]]\n",
      "\n",
      " [[255 255 255 255]\n",
      "  [255 255 255 255]\n",
      "  [255 255 255 255]\n",
      "  [255 255 255 255]\n",
      "  [255 255 255 255]\n",
      "  [255 255 255 255]\n",
      "  [255 255 255 255]\n",
      "  [255 255 255 255]]\n",
      "\n",
      " [[255 255 255 255]\n",
      "  [255 255 255 255]\n",
      "  [255 255 255 255]\n",
      "  [255 255 255 255]\n",
      "  [255 255 255 255]\n",
      "  [255 255 255 255]\n",
      "  [255 255 255 255]\n",
      "  [255 255 255 255]]\n",
      "\n",
      " [[255 255 255 255]\n",
      "  [255 255 255 255]\n",
      "  [255 255 255 255]\n",
      "  [255 255 255 255]\n",
      "  [255 255 255 255]\n",
      "  [255 255 255 255]\n",
      "  [255 255 255 255]\n",
      "  [255 255 255 255]]\n",
      "\n",
      " [[255 255 255 255]\n",
      "  [255 255 255 255]\n",
      "  [255 255 255 255]\n",
      "  [255 255 255 255]\n",
      "  [255 255 255 255]\n",
      "  [255 255 255 255]\n",
      "  [255 255 255 255]\n",
      "  [255 255 255 255]]]\n"
     ]
    }
   ],
   "source": [
    "# convert the image into a numpy array\n",
    "image_array = np.asarray(image) # this would be a 3D array\n",
    "# First Dimension for the pixel array\n",
    "# Second Dimension for the pixel row\n",
    "# Third Dimension for the pixel columns\n",
    "# Our images are saved as 256 color bit map\n",
    "print(image_array)"
   ]
  },
  {
   "cell_type": "markdown",
   "metadata": {},
   "source": [
    "### Why RGB\n",
    "* These are additive colors - The more we use the lighter it becomes unlike the stroking the paint brush again and again on the same stroke. Thus, white here is full of colors."
   ]
  },
  {
   "cell_type": "code",
   "execution_count": 4,
   "metadata": {},
   "outputs": [
    {
     "data": {
      "text/plain": [
       "<Figure size 640x480 with 1 Axes>"
      ]
     },
     "metadata": {},
     "output_type": "display_data"
    }
   ],
   "source": [
    "import matplotlib.pyplot as plt\n",
    "plt.imshow(image_array)\n",
    "plt.show()"
   ]
  },
  {
   "cell_type": "code",
   "execution_count": 5,
   "metadata": {},
   "outputs": [
    {
     "data": {
      "image/png": "[encoded data removed]",
      "text/plain": [
       "<Figure size 432x288 with 1 Axes>"
      ]
     },
     "metadata": {
      "needs_background": "light"
     },
     "output_type": "display_data"
    }
   ],
   "source": [
    "image = Image.open('tutorialimages/images/numbers/y0.4.png')\n",
    "image_array = np.asarray(image)\n",
    "plt.imshow(image_array)\n",
    "plt.show()"
   ]
  },
  {
   "cell_type": "code",
   "execution_count": 6,
   "metadata": {},
   "outputs": [
    {
     "data": {
      "image/png": "[encoded data removed]",
      "text/plain": [
       "<Figure size 432x288 with 1 Axes>"
      ]
     },
     "metadata": {
      "needs_background": "light"
     },
     "output_type": "display_data"
    }
   ],
   "source": [
    "image = Image.open('tutorialimages/images/numbers/0.1.png')\n",
    "image_array = np.asarray(image)\n",
    "plt.imshow(image_array)\n",
    "plt.show()"
   ]
  },
  {
   "cell_type": "code",
   "execution_count": 16,
   "metadata": {},
   "outputs": [
    {
     "data": {
      "image/png": "[encoded data removed]",
      "text/plain": [
       "<Figure size 432x288 with 4 Axes>"
      ]
     },
     "metadata": {
      "needs_background": "light"
     },
     "output_type": "display_data"
    }
   ],
   "source": [
    "image_1 = Image.open('tutorialimages/images/sentdex.png')\n",
    "image_array_1 = np.asarray(image_1)\n",
    "\n",
    "image_2 = Image.open('tutorialimages/images/numbers/y0.4.png')\n",
    "image_array_2 = np.asarray(image_2)\n",
    "\n",
    "image_3 = Image.open('tutorialimages/images/numbers/y0.5.png')\n",
    "image_array_3 = np.asarray(image_3)\n",
    "\n",
    "image_4 = Image.open('tutorialimages/images/numbers/0.1.png')\n",
    "image_array_4 = np.asarray(image_4)\n",
    "\n",
    "fig = plt.figure()\n",
    "ax1 = plt.subplot2grid((8, 8), (0, 0), rowspan = 4, colspan = 4)\n",
    "ax2 = plt.subplot2grid((8, 8), (4, 0), rowspan = 4, colspan = 4)\n",
    "ax3 = plt.subplot2grid((8, 8), (0, 4), rowspan = 4, colspan = 4)\n",
    "ax4 = plt.subplot2grid((8, 8), (4, 4), rowspan = 4, colspan = 4)\n",
    "\n",
    "ax1.imshow(image_array_1)\n",
    "ax2.imshow(image_array_2)\n",
    "ax3.imshow(image_array_3)\n",
    "ax4.imshow(image_array_4)\n",
    "\n",
    "plt.show()"
   ]
  },
  {
   "cell_type": "markdown",
   "metadata": {},
   "source": [
    "### Thresholding\n",
    "* For different coloured images like the one above we use thresholding to convert image into pure black and white\n",
    "* If the RGB value of a pixel is above certain value it is white else black"
   ]
  },
  {
   "cell_type": "code",
   "execution_count": 19,
   "metadata": {},
   "outputs": [],
   "source": [
    "from functools import reduce\n",
    "\n",
    "def threshold(image_array):\n",
    "    balance_array = []\n",
    "    new_array = image_array.copy()\n",
    "    \n",
    "    for each_row in image_array:\n",
    "        for each_pix in each_row:\n",
    "            average_num = reduce(lambda x, y : x + y, each_pix[:3])/len(each_pix[:3])\n",
    "            balance_array.append(average_num)\n",
    "            \n",
    "    balance_num = reduce(lambda x, y : x + y, balance_array)/len(balance_array)\n",
    "    \n",
    "    for each_row in new_array:\n",
    "        for each_pix in each_row:\n",
    "            pass\n",
    "            \n",
    "            if reduce(lambda x, y : x + y, each_pix[:3])/len(each_pix[:3]) > balance_num:\n",
    "                each_pix[0] = 255\n",
    "                each_pix[1] = 255\n",
    "                each_pix[2] = 255\n",
    "                each_pix[3] = 255\n",
    "            else:\n",
    "                each_pix[0] = 0\n",
    "                each_pix[1] = 0\n",
    "                each_pix[2] = 0\n",
    "                each_pix[3] = 255\n",
    "            \n",
    "                \n",
    "    return new_array"
   ]
  },
  {
   "cell_type": "code",
   "execution_count": 20,
   "metadata": {},
   "outputs": [
    {
     "name": "stderr",
     "output_type": "stream",
     "text": [
      "c:\\users\\vipul\\appdata\\local\\programs\\python\\python36-32\\lib\\site-packages\\ipykernel_launcher.py:9: RuntimeWarning: overflow encountered in ubyte_scalars\n",
      "  if __name__ == '__main__':\n",
      "c:\\users\\vipul\\appdata\\local\\programs\\python\\python36-32\\lib\\site-packages\\ipykernel_launcher.py:18: RuntimeWarning: overflow encountered in ubyte_scalars\n"
     ]
    },
    {
     "data": {
      "image/png": "[encoded data removed]",
      "text/plain": [
       "<Figure size 432x288 with 1 Axes>"
      ]
     },
     "metadata": {
      "needs_background": "light"
     },
     "output_type": "display_data"
    }
   ],
   "source": [
    "new_image_array_1 = threshold(image_array_1)\n",
    "plt.imshow(new_image_array_1)\n",
    "plt.show()"
   ]
  },
  {
   "cell_type": "code",
   "execution_count": 21,
   "metadata": {},
   "outputs": [
    {
     "name": "stderr",
     "output_type": "stream",
     "text": [
      "c:\\users\\vipul\\appdata\\local\\programs\\python\\python36-32\\lib\\site-packages\\ipykernel_launcher.py:9: RuntimeWarning: overflow encountered in ubyte_scalars\n",
      "  if __name__ == '__main__':\n",
      "c:\\users\\vipul\\appdata\\local\\programs\\python\\python36-32\\lib\\site-packages\\ipykernel_launcher.py:18: RuntimeWarning: overflow encountered in ubyte_scalars\n"
     ]
    },
    {
     "data": {
      "image/png": "[encoded data removed]",
      "text/plain": [
       "<Figure size 432x288 with 4 Axes>"
      ]
     },
     "metadata": {
      "needs_background": "light"
     },
     "output_type": "display_data"
    }
   ],
   "source": [
    "image_1 = Image.open('tutorialimages/images/sentdex.png')\n",
    "image_array_1 = np.asarray(image_1)\n",
    "\n",
    "image_2 = Image.open('tutorialimages/images/numbers/y0.4.png')\n",
    "image_array_2 = np.asarray(image_2)\n",
    "\n",
    "image_3 = Image.open('tutorialimages/images/numbers/y0.5.png')\n",
    "image_array_3 = np.asarray(image_3)\n",
    "\n",
    "image_4 = Image.open('tutorialimages/images/numbers/0.1.png')\n",
    "image_array_4 = np.asarray(image_4)\n",
    "\n",
    "fig = plt.figure()\n",
    "ax1 = plt.subplot2grid((8, 8), (0, 0), rowspan = 4, colspan = 4)\n",
    "ax2 = plt.subplot2grid((8, 8), (4, 0), rowspan = 4, colspan = 4)\n",
    "ax3 = plt.subplot2grid((8, 8), (0, 4), rowspan = 4, colspan = 4)\n",
    "ax4 = plt.subplot2grid((8, 8), (4, 4), rowspan = 4, colspan = 4)\n",
    "\n",
    "ax1.imshow(threshold(image_array_1))\n",
    "ax2.imshow(threshold(image_array_2))\n",
    "ax3.imshow(threshold(image_array_3))\n",
    "ax4.imshow(threshold(image_array_4))\n",
    "\n",
    "plt.show()"
   ]
  },
  {
   "cell_type": "code",
   "execution_count": 25,
   "metadata": {},
   "outputs": [],
   "source": [
    "def createExamples():\n",
    "    number_array_examples = open('number_array_example.txt', 'a')\n",
    "    all_numbers = range(0, 10)\n",
    "    all_versions = range(1, 10)\n",
    "    \n",
    "    for each_num in all_numbers:\n",
    "        for each_version in all_versions:\n",
    "            # print(str(each_num) + '.' + str(each_version))\n",
    "            image_file_path = 'tutorialimages/images/numbers/' + str(each_num) + '.' + str(each_version) + '.png'\n",
    "            example_image = Image.open(image_file_path)\n",
    "            example_image_array = np.asarray(example_image)\n",
    "            example_image_array_list = str(example_image_array.tolist())\n",
    "            \n",
    "            line_to_write = str(each_num) + '::' + example_image_array_list + '\\n'\n",
    "            number_array_examples.write(line_to_write)\n",
    "            \n",
    "createExamples()"
   ]
  },
  {
   "cell_type": "code",
   "execution_count": 32,
   "metadata": {},
   "outputs": [
    {
     "name": "stdout",
     "output_type": "stream",
     "text": [
      "0\n",
      "469\n",
      "1\n",
      "285\n",
      "2\n",
      "353\n",
      "3\n",
      "369\n",
      "4\n",
      "281\n",
      "5\n",
      "351\n",
      "6\n",
      "334\n",
      "7\n",
      "320\n",
      "8\n",
      "345\n",
      "9\n",
      "314\n"
     ]
    },
    {
     "data": {
      "image/png": "[encoded data removed]",
      "text/plain": [
       "<Figure size 432x288 with 2 Axes>"
      ]
     },
     "metadata": {
      "needs_background": "light"
     },
     "output_type": "display_data"
    }
   ],
   "source": [
    "from collections import Counter\n",
    "\n",
    "def guessTheNumber(file_path):\n",
    "    matched_array = []\n",
    "    load_examples = open('number_array_example.txt', 'r').read()\n",
    "    load_examples = load_examples.split('\\n')\n",
    "    \n",
    "    image = Image.open(file_path)\n",
    "    image_array = np.asarray(image)\n",
    "    image_array_list = image_array.tolist()\n",
    "    \n",
    "    test_sample = str(image_array_list)\n",
    "    \n",
    "    for each_example in load_examples:\n",
    "        if len(each_example) > 3:\n",
    "            split_example = each_example.split('::')\n",
    "            current_num = split_example[0]\n",
    "            current_array = split_example[1]\n",
    "            \n",
    "            each_example_pixel = current_array.split('],')\n",
    "            each_sample_pixel = test_sample.split('],')\n",
    "            \n",
    "            x = 0\n",
    "            while x < len(each_example_pixel):\n",
    "                if each_example_pixel[x] == each_sample_pixel[x]:\n",
    "                    matched_array.append(int(current_num))\n",
    "                    \n",
    "                x += 1\n",
    "                \n",
    "    # print(matched_array)\n",
    "    x = Counter(matched_array)\n",
    "    # print(x)\n",
    "    \n",
    "    graph_x = []\n",
    "    graph_y = []\n",
    "    \n",
    "    for each_key in x:\n",
    "        print(each_key)\n",
    "        graph_x.append(each_key)\n",
    "        print(x[each_key])\n",
    "        graph_y.append(x[each_key])\n",
    "        \n",
    "    fir = plt.figure()\n",
    "    ax_1 = plt.subplot2grid((4, 4), (0, 0), rowspan = 1, colspan = 4)\n",
    "    ax_2 = plt.subplot2grid((4, 4), (1, 0), rowspan = 3, colspan = 4)\n",
    "    \n",
    "    ax_1.imshow(image_array)\n",
    "    ax_2.bar(graph_x, graph_y, align = 'center')\n",
    "    # plt.ylim(400)\n",
    "    \n",
    "    xloc = plt.MaxNLocator(12)\n",
    "    \n",
    "    ax_2.xaxis.set_major_locator(xloc)\n",
    "    \n",
    "    plt.show()\n",
    "    \n",
    "guessTheNumber('tutorialimages/images/numbers/0.7.png')"
   ]
  },
  {
   "cell_type": "code",
   "execution_count": null,
   "metadata": {},
   "outputs": [],
   "source": []
  }
 ],
 "metadata": {
  "kernelspec": {
   "display_name": "Python 3",
   "language": "python",
   "name": "python3"
  },
  "language_info": {
   "codemirror_mode": {
    "name": "ipython",
    "version": 3
   },
   "file_extension": ".py",
   "mimetype": "text/x-python",
   "name": "python",
   "nbconvert_exporter": "python",
   "pygments_lexer": "ipython3",
   "version": "3.6.4"
  }
 },
 "nbformat": 4,
 "nbformat_minor": 2
}
